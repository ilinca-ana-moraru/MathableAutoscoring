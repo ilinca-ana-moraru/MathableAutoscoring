{
 "cells": [
  {
   "cell_type": "code",
   "execution_count": 1,
   "metadata": {},
   "outputs": [],
   "source": [
    "import cv2 as cv\n",
    "import numpy as np\n",
    "import os\n",
    "import matplotlib.pyplot as plt\n",
    "import joblib\n",
    "import json\n",
    "\n",
    "from extract_table import *\n",
    "from global_variables import *\n",
    "from tile_detection import *\n",
    "\n"
   ]
  },
  {
   "cell_type": "code",
   "execution_count": 2,
   "metadata": {},
   "outputs": [],
   "source": [
    "# 4-6 minute pt 4 jocuri \n",
    "input_folder = GLOBAL_IN\n",
    "# input_foler = os.path.join(\"evaluare\",\"fake_test\")\n",
    "\n",
    "big_boards = []\n",
    "big_boards = extract_all_big_boards(input_folder)"
   ]
  },
  {
   "cell_type": "code",
   "execution_count": 3,
   "metadata": {},
   "outputs": [],
   "source": [
    "boards = extract_all_boards_by_average_coordonates(big_boards)\n",
    "\n",
    "empty_board_image = cv.imread(os.path.join(\"imagini_auxiliare\", \"01.jpg\"))\n",
    "empty_big_board = extract_big_board(empty_board_image)\n",
    "\n",
    "empty_board = extract_board_by_average_coordonates(empty_big_board)"
   ]
  },
  {
   "cell_type": "code",
   "execution_count": 4,
   "metadata": {},
   "outputs": [],
   "source": [
    "kmeans_model_path =  os.path.join(\"processed_images\",\"kmeans\",\"kmeans_model.joblib\")\n",
    "kmeans = joblib.load(kmeans_model_path)\n",
    "\n",
    "mapping_path = os.path.join(\"processed_images\",\"kmeans\",\"image_label_mapping.json\")\n",
    "with open(mapping_path, \"r\") as file:\n",
    "    image_label_mapping = json.load(file)"
   ]
  },
  {
   "cell_type": "code",
   "execution_count": 6,
   "metadata": {},
   "outputs": [
    {
     "name": "stdout",
     "output_type": "stream",
     "text": [
      "-1 -1 -1 -1 -1 -1 -1 -1 -1 -1 -1 -1 -1 -1 \n",
      "-1 -1 -1 -1 -1 -1 -1 -1 -1 -1 -1 -1 -1 -1 \n",
      "-1 -1 -1 -1 -1 -1 -1 -1 -1 -1 -1 -1 -1 -1 \n",
      "-1 -1 -1 -1 -1 -1 -1 -1 -1 -1 -1 -1 -1 -1 \n",
      "-1 -1 -1 -1 -1 -1 -1 -1 -1 -1 -1 -1 -1 -1 \n",
      "-1 -1 -1 -1 -1 -1  4 -1 -1 13 -1 -1 -1 -1 \n",
      "-1 -1 -1 -1 -1 19  1  2  1  2 -1 -1 -1 -1 \n",
      "-1 -1 -1 -1 -1  7  3  4  7 11 -1 -1 -1 -1 \n",
      "-1 -1 -1 -1 10 12  2  6  8 14 -1 -1 -1 -1 \n",
      "-1 -1 -1 -1 21 16  5 24 15 25 40 -1 -1 -1 \n",
      "81  9  9 18  2 20 10 30  7 -1 -1 -1 -1 -1 \n",
      "-1 -1 -1 -1  2  4  2  6  8 -1 -1 -1 -1 -1 \n",
      "-1 -1  7  6  1  5 35 36  1 -1 -1 -1 -1 -1 \n",
      "-1 -1  7  4  3  1 -1 42 28 -1 -1 -1 -1 -1 \n",
      "\n",
      "\n",
      "\n",
      "\n",
      "-1 -1 -1 -1 -1 -1 -1 -1 -1 -1 -1 -1 -1 -1 \n",
      "-1 -1 -1 -1 -1 -1 -1 -1 -1 -1 -1 -1 -1 -1 \n",
      "-1 -1 -1 -1 -1 -1 -1 -1 -1 -1 -1 -1 -1 -1 \n",
      "-1 -1 -1 -1 -1 -1 -1 48 -1 -1  9 -1 -1 -1 \n",
      "-1 -1 -1 -1 -1 -1 -1  8 13  1 24 -1 -1 -1 \n",
      "-1 10  6  4 10 14  4  6 10  5 15 10  5  2 \n",
      "-1 -1  2  6  3  2  1  2  3  6  9 54  6  9 \n",
      "-1 -1  4 10 21  7  3  4  7 11 -1 -1 -1  7 \n",
      "-1 -1  2 -1 -1  9  4  6 10 17 27 10 -1  2 \n",
      "-1 -1  8 -1 -1 16 -1 -1 -1 28 -1 -1 -1 -1 \n",
      "-1 -1 -1 -1 -1 25 -1 -1 -1 -1 -1 -1 -1 -1 \n",
      "-1 -1 -1 -1 -1  9 -1 -1 -1 -1 -1 -1 -1 -1 \n",
      "-1 -1 -1 -1 -1 -1 -1 -1 -1 -1 -1 -1 -1 -1 \n",
      "-1 -1 -1 -1 -1 -1 -1 -1 -1 -1 -1 -1 -1 -1 \n",
      "\n",
      "\n",
      "\n",
      "\n",
      "-1 -1 -1 -1 -1 -1 -1 -1 -1 -1 -1 -1 -1 -1 \n",
      "-1 -1 -1 -1 -1 -1 -1 -1 -1 -1 -1 -1 -1 -1 \n",
      "-1 -1 -1 -1 13  4 14 -1 -1 -1 -1 -1 -1 -1 \n",
      "-1 -1  5  1  4  3  7 80 -1 -1 -1 -1 -1 -1 \n",
      "-1 -1  0 63  9  7  2 10 30 40 10 -1 -1 -1 \n",
      "-1 15 49 64  5 10  2  8 10  5 -1 -1 -1 -1 \n",
      "-1 -1 -1 -1  4  3  1  2  3  6  9  3 -1 -1 \n",
      "-1 -1 -1 27 20  7  3  4  7 11 -1 -1 -1 -1 \n",
      "-1 -1 -1 -1 -1 10  4  6 10 -1 -1 -1 -1 -1 \n",
      "-1 -1 -1 -1 -1  3  7 24 17  7 10 70  7 -1 \n",
      "-1 -1 -1 -1 -1 -1 -1 -1 -1 -1 -1 -1 -1 -1 \n",
      "-1 -1 -1 -1 -1 -1 -1 -1 -1 -1 -1 -1 -1 -1 \n",
      "-1 -1 -1 -1 -1 -1 -1 -1 -1 -1 -1 -1 -1 -1 \n",
      "-1 -1 -1 -1 -1 -1 -1 -1 -1 -1 -1 -1 -1 -1 \n",
      "\n",
      "\n",
      "\n",
      "\n",
      "-1 -1 -1 -1 -1 -1 -1 -1 36  9 27  3 30 10 \n",
      "-1 -1 -1 -1 -1 -1 -1 81 18  3 21 -1 -1 -1 \n",
      "-1 -1 -1 -1 -1 -1 -1  1  2  3  6  9 54 45 \n",
      "-1 -1 -1 -1 -1 -1  8 80 16  1 15 -1 -1 -1 \n",
      "-1 -1 -1 -1 -1 19  4 10 14  4 10 -1 -1 -1 \n",
      "-1 -1 -1 -1 -1  2  4  8  2  4  6  2  8 10 \n",
      "-1 -1 -1 -1 -1 17  1  2  1 -1 -1 -1 -1 -1 \n",
      "-1 -1 -1 -1 -1  7  3  4  1 -1 -1 -1 -1 -1 \n",
      "-1 -1 -1 -1 20 24  4  6  2 -1 -1 -1 -1 -1 \n",
      "-1 -1 -1 -1 -1 -1  7 -1 -1 -1 -1 -1 -1 -1 \n",
      "-1 -1 -1 -1 -1 -1 28 -1 -1 -1 -1 -1 -1 -1 \n",
      "-1 -1 -1 -1 -1 -1 35 -1 -1 -1 -1 -1 -1 -1 \n",
      "-1 -1 -1 -1 -1 -1 63 -1 -1 -1 -1 -1 -1 -1 \n",
      "-1 -1 -1 -1 -1 -1 -1 -1 -1 -1 -1 -1 -1 -1 \n",
      "\n",
      "\n",
      "\n",
      "\n"
     ]
    }
   ],
   "source": [
    "nr_of_game_moves = 50\n",
    "txts = []\n",
    "turns_array = []\n",
    "\n",
    "output_dir = GLOBAL_OUT\n",
    "input_dir = GLOBAL_IN\n",
    "input_files = os.listdir(input_dir)\n",
    "input_files = sorted(input_files)\n",
    "for file in input_files:\n",
    "    if file[-3:] == \"txt\":\n",
    "        if file[-9:] == \"turns.txt\":\n",
    "            file_path = os.path.join(input_dir, file)\n",
    "            with open(file_path, \"r\", encoding=\"utf-8\") as file:\n",
    "                data = file.read()\n",
    "                turns_array.append(data)\n",
    "\n",
    "for game in range(0,nr_of_games):\n",
    "    game_boards = boards[game*nr_of_game_moves: (game+1)*nr_of_game_moves]\n",
    "    turns = turns_array[game]\n",
    "    \n",
    "    calculate_move(kmeans, game, empty_board, game_boards, turns, output_dir)\n",
    "    print(\"\\n\\n\\n\")"
   ]
  }
 ],
 "metadata": {
  "kernelspec": {
   "display_name": "Python 3",
   "language": "python",
   "name": "python3"
  },
  "language_info": {
   "codemirror_mode": {
    "name": "ipython",
    "version": 3
   },
   "file_extension": ".py",
   "mimetype": "text/x-python",
   "name": "python",
   "nbconvert_exporter": "python",
   "pygments_lexer": "ipython3",
   "version": "3.11.9"
  }
 },
 "nbformat": 4,
 "nbformat_minor": 2
}
