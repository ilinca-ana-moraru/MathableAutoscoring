{
 "cells": [
  {
   "cell_type": "code",
   "execution_count": 1,
   "id": "3b973af6",
   "metadata": {},
   "outputs": [],
   "source": [
    "import numpy as np\n",
    "import cv2 as cv\n",
    "import os\n",
    "import glob\n",
    "import matplotlib.pyplot as plt\n",
    "from numpy.random import uniform\n",
    "import pdb"
   ]
  },
  {
   "cell_type": "code",
   "execution_count": null,
   "id": "e2588322",
   "metadata": {},
   "outputs": [],
   "source": [
    "def find_color_values_using_trackbar(frame):\n",
    "    frame_hsv = cv.cvtColor(frame, cv.COLOR_BGR2HSV)\n",
    "\n",
    "    def nothing(x):\n",
    "        pass\n",
    "\n",
    "    cv.namedWindow(\"Trackbar\")\n",
    "    cv.createTrackbar(\"LH\", \"Trackbar\", 0, 255, nothing)\n",
    "    cv.createTrackbar(\"LS\", \"Trackbar\", 0, 255, nothing)\n",
    "    cv.createTrackbar(\"LV\", \"Trackbar\", 0, 255, nothing)\n",
    "    cv.createTrackbar(\"UH\", \"Trackbar\", 255, 255, nothing)\n",
    "    cv.createTrackbar(\"US\", \"Trackbar\", 255, 255, nothing)\n",
    "    cv.createTrackbar(\"UV\", \"Trackbar\", 255, 255, nothing)\n",
    "\n",
    "    # Resize window for trackbars\n",
    "    cv.resizeWindow(\"Trackbar\", 400, 300)\n",
    "\n",
    "    while True:\n",
    "        l_h = cv.getTrackbarPos(\"LH\", \"Trackbar\")\n",
    "        l_s = cv.getTrackbarPos(\"LS\", \"Trackbar\")\n",
    "        l_v = cv.getTrackbarPos(\"LV\", \"Trackbar\")\n",
    "        u_h = cv.getTrackbarPos(\"UH\", \"Trackbar\")\n",
    "        u_s = cv.getTrackbarPos(\"US\", \"Trackbar\")\n",
    "        u_v = cv.getTrackbarPos(\"UV\", \"Trackbar\")\n",
    "\n",
    "        l = np.array([l_h, l_s, l_v])\n",
    "        u = np.array([u_h, u_s, u_v])\n",
    "        mask_table_hsv = cv.inRange(frame_hsv, l, u)\n",
    "\n",
    "        res = cv.bitwise_and(frame, frame, mask=mask_table_hsv)\n",
    "\n",
    "        # Resize the frame for better visualization\n",
    "        resized_frame = cv.resize(frame, (600, 600))\n",
    "        resized_mask = cv.resize(mask_table_hsv, (600, 600))\n",
    "        resized_res = cv.resize(res, (600, 600))\n",
    "\n",
    "        cv.imshow(\"Frame\", resized_frame)\n",
    "        cv.imshow(\"Mask\", resized_mask)\n",
    "        cv.imshow(\"Res\", resized_res)\n",
    "\n",
    "        if cv.waitKey(25) & 0xFF == ord('q'):\n",
    "            break\n",
    "    cv.destroyAllWindows()\n"
   ]
  },
  {
   "cell_type": "code",
   "execution_count": 4,
   "id": "ab73d97b",
   "metadata": {},
   "outputs": [
    {
     "ename": "KeyboardInterrupt",
     "evalue": "",
     "output_type": "error",
     "traceback": [
      "\u001b[1;31m---------------------------------------------------------------------------\u001b[0m",
      "\u001b[1;31mKeyboardInterrupt\u001b[0m                         Traceback (most recent call last)",
      "Cell \u001b[1;32mIn[4], line 2\u001b[0m\n\u001b[0;32m      1\u001b[0m img \u001b[38;5;241m=\u001b[39m cv\u001b[38;5;241m.\u001b[39mimread(\u001b[38;5;124m'\u001b[39m\u001b[38;5;124mimagini_auxiliare/07.jpg\u001b[39m\u001b[38;5;124m'\u001b[39m)\n\u001b[1;32m----> 2\u001b[0m \u001b[43mfind_color_values_using_trackbar\u001b[49m\u001b[43m(\u001b[49m\u001b[43mimg\u001b[49m\u001b[43m)\u001b[49m\n",
      "Cell \u001b[1;32mIn[3], line 41\u001b[0m, in \u001b[0;36mfind_color_values_using_trackbar\u001b[1;34m(frame)\u001b[0m\n\u001b[0;32m     38\u001b[0m     cv\u001b[38;5;241m.\u001b[39mimshow(\u001b[38;5;124m\"\u001b[39m\u001b[38;5;124mMask\u001b[39m\u001b[38;5;124m\"\u001b[39m, resized_mask)\n\u001b[0;32m     39\u001b[0m     cv\u001b[38;5;241m.\u001b[39mimshow(\u001b[38;5;124m\"\u001b[39m\u001b[38;5;124mRes\u001b[39m\u001b[38;5;124m\"\u001b[39m, resized_res)\n\u001b[1;32m---> 41\u001b[0m     \u001b[38;5;28;01mif\u001b[39;00m \u001b[43mcv\u001b[49m\u001b[38;5;241;43m.\u001b[39;49m\u001b[43mwaitKey\u001b[49m\u001b[43m(\u001b[49m\u001b[38;5;241;43m25\u001b[39;49m\u001b[43m)\u001b[49m \u001b[38;5;241m&\u001b[39m \u001b[38;5;241m0xFF\u001b[39m \u001b[38;5;241m==\u001b[39m \u001b[38;5;28mord\u001b[39m(\u001b[38;5;124m'\u001b[39m\u001b[38;5;124mq\u001b[39m\u001b[38;5;124m'\u001b[39m):\n\u001b[0;32m     42\u001b[0m         \u001b[38;5;28;01mbreak\u001b[39;00m\n\u001b[0;32m     43\u001b[0m cv\u001b[38;5;241m.\u001b[39mdestroyAllWindows()\n",
      "\u001b[1;31mKeyboardInterrupt\u001b[0m: "
     ]
    }
   ],
   "source": [
    "img = cv.imread('imagini_auxiliare/07.jpg')\n",
    "find_color_values_using_trackbar(img)"
   ]
  },
  {
   "cell_type": "code",
   "execution_count": null,
   "id": "a91bbc1d",
   "metadata": {},
   "outputs": [],
   "source": [
    "low_yellow = (15, 105, 105)\n",
    "high_yellow = (90, 255, 255)\n",
    "img_hsv = cv.cvtColor(img, cv.COLOR_BGR2HSV)\n",
    "mask_yellow_hsv = cv.inRange(img_hsv, low_yellow, high_yellow)\n",
    "cv.imshow('img_initial', img)\n",
    "cv.imshow('mask_yellow_hsv', mask_yellow_hsv)\n",
    "cv.waitKey(0)\n",
    "cv.destroyAllWindows()"
   ]
  },
  {
   "cell_type": "code",
   "execution_count": null,
   "id": "31cd69be",
   "metadata": {},
   "outputs": [],
   "source": []
  }
 ],
 "metadata": {
  "kernelspec": {
   "display_name": "Python 3",
   "language": "python",
   "name": "python3"
  },
  "language_info": {
   "codemirror_mode": {
    "name": "ipython",
    "version": 3
   },
   "file_extension": ".py",
   "mimetype": "text/x-python",
   "name": "python",
   "nbconvert_exporter": "python",
   "pygments_lexer": "ipython3",
   "version": "3.11.9"
  }
 },
 "nbformat": 4,
 "nbformat_minor": 5
}
